{
 "cells": [
  {
   "cell_type": "markdown",
   "metadata": {},
   "source": [
    "# linear regression model using TensorFlow 2.0\n",
    "we’re going to train a linear regression model using TensorFlow 2.0-compatible code\n",
    "\n",
    "In statistics, linear regression is a linear approach to modeling the relationship between a scalar response (or dependent variable) and one or more explanatory variables (or independent variables). The dependent variable is also called a label and independent variables are called features.\n",
    "\n",
    "We’ll start by importing the necessary libraries. "
   ]
  },
  {
   "cell_type": "code",
   "execution_count": 40,
   "metadata": {},
   "outputs": [],
   "source": [
    "#Let’s import three, namely numpy, tensorflow, and matplotlib, as shown below:\n",
    "import numpy as np\n",
    "import tensorflow as tf\n",
    "import matplotlib.pyplot as plt\n",
    "plt.style.use('ggplot')"
   ]
  },
  {
   "cell_type": "markdown",
   "metadata": {},
   "source": [
    "Before starting our code, let’s check first our version of tensorflow"
   ]
  },
  {
   "cell_type": "code",
   "execution_count": 41,
   "metadata": {},
   "outputs": [
    {
     "name": "stdout",
     "output_type": "stream",
     "text": [
      "2.0.0\n"
     ]
    }
   ],
   "source": [
    "print(tf.__version__)"
   ]
  },
  {
   "cell_type": "markdown",
   "metadata": {},
   "source": [
    "Our next step is to define a linear regression model. We know that the equation of a linear model is __y = mx + c__ where m is the __slope__ of the line and __c__ is __intercept__. So the parameters of this model are __m__ and __c__. In deep learning terms, we can call them as __weight__ and __bias__ respectively."
   ]
  },
  {
   "cell_type": "markdown",
   "metadata": {},
   "source": [
    "# define our Dataset"
   ]
  },
  {
   "cell_type": "code",
   "execution_count": 42,
   "metadata": {},
   "outputs": [
    {
     "data": {
      "image/png": "[encoded data removed]",
      "text/plain": [
       "<Figure size 432x288 with 1 Axes>"
      ]
     },
     "metadata": {},
     "output_type": "display_data"
    }
   ],
   "source": [
    "# Genrating random linear data \n",
    "# There will be 100 data points ranging from 0 to 10 \n",
    "# actual weight = 2 and actual bias = 0.9\n",
    "x = np.linspace(0, 3, 120)\n",
    "y = 2 * x + 0.9 + np.random.randn(*x.shape) * 0.3\n",
    "plt.scatter(x, y, label=\"Input Dataset\")\n",
    "plt.show()"
   ]
  },
  {
   "cell_type": "markdown",
   "metadata": {},
   "source": [
    "So let’s first define our model."
   ]
  },
  {
   "cell_type": "code",
   "execution_count": 43,
   "metadata": {},
   "outputs": [],
   "source": [
    "class Model:\n",
    "    def __init__(self):\n",
    "        self.w = tf.Variable(np.random.randn(), name = \"W\") \n",
    "        self.b = tf.Variable(np.random.randn(), name = \"b\") \n",
    "\n",
    "    def __call__(self, x):\n",
    "        return self.w * x + self.b"
   ]
  },
  {
   "cell_type": "markdown",
   "metadata": {},
   "source": [
    "as we can see our model has __W__ and __b__ attributes which will represent the slope and intercept respectively."
   ]
  },
  {
   "cell_type": "markdown",
   "metadata": {},
   "source": [
    "now we are going to plot our Input dataset and predicted from our untrained model."
   ]
  },
  {
   "cell_type": "code",
   "execution_count": 44,
   "metadata": {},
   "outputs": [
    {
     "data": {
      "image/png": "[encoded data removed]",
      "text/plain": [
       "<Figure size 432x288 with 1 Axes>"
      ]
     },
     "metadata": {},
     "output_type": "display_data"
    }
   ],
   "source": [
    "model = Model()\n",
    "plt.scatter(x, y, label=\"Input Dataset\")\n",
    "plt.scatter(x, model(x), label=\"predicted\")\n",
    "plt.legend()\n",
    "plt.show()"
   ]
  },
  {
   "cell_type": "markdown",
   "metadata": {},
   "source": [
    "Accourdin this graph we can see that Clearly our model is way off. So we need to train the model. Let’s define a loss function that will tell how bad the model is. We’ll use mean squared error as our loss function.\n",
    "The loss function takes two parameters: y (actual value of dependent variable) and pred (predicted value of dependent variable)."
   ]
  },
  {
   "cell_type": "code",
   "execution_count": 45,
   "metadata": {},
   "outputs": [],
   "source": [
    "def loss(y, y_pred):\n",
    "    return tf.reduce_mean(tf.square(y - y_pred))"
   ]
  },
  {
   "cell_type": "markdown",
   "metadata": {},
   "source": [
    "Next step Now, we need to implement a function that will compute the gradient of the model parameters with respect to the loss.  Here, the __tf.GradientTape__ method is used for automatic differentiation, computing the gradient of a computation with respect to its input variables.Then, we multiply the gradient with a learning rate and subtract this result from the current value of our parameters (W and b)."
   ]
  },
  {
   "cell_type": "code",
   "execution_count": 46,
   "metadata": {},
   "outputs": [],
   "source": [
    "def train(model, X, y, lr=0.01):\n",
    "    with tf.GradientTape() as t:\n",
    "        current_loss = loss(y, model(X))\n",
    "\n",
    "    dW, db = t.gradient(current_loss, [model.w, model.b])\n",
    "    model.w.assign_sub(lr * dW)\n",
    "    model.b.assign_sub(lr * db)"
   ]
  },
  {
   "cell_type": "markdown",
   "metadata": {},
   "source": [
    "Finally, we define a training loop which updates the weights and biases and also keeps track of the W and b.\n",
    "we defined the numbers of epochs as 100 and using a for loop to train the model. Note that we’re printing the epoch count and loss for each epoch using that same for loop. We’ve used 0.01 for learning rate, and we’re calculating the loss in each epoch by calling our loss function inside the for loop as shown below."
   ]
  },
  {
   "cell_type": "code",
   "execution_count": 47,
   "metadata": {},
   "outputs": [
    {
     "name": "stdout",
     "output_type": "stream",
     "text": [
      "Epoch count 9: Loss Value: 0.11385250091552734\n",
      "Epoch count 19: Loss Value: 0.10306255519390106\n",
      "Epoch count 29: Loss Value: 0.09902884066104889\n",
      "Epoch count 39: Loss Value: 0.0975208654999733\n",
      "Epoch count 49: Loss Value: 0.09695708751678467\n",
      "Epoch count 59: Loss Value: 0.09674633294343948\n",
      "Epoch count 69: Loss Value: 0.0966675728559494\n",
      "Epoch count 79: Loss Value: 0.09663811326026917\n",
      "Epoch count 89: Loss Value: 0.09662710875272751\n",
      "Epoch count 99: Loss Value: 0.09662298113107681\n"
     ]
    }
   ],
   "source": [
    "l_Model = Model()\n",
    "Ws, bs = [], []\n",
    "epochs = 100\n",
    "for epoch in range(epochs):\n",
    "    Ws.append(l_Model.w.numpy()) # eager execution allows us to do this\n",
    "    bs.append(model.b.numpy())\n",
    "\n",
    "    current_loss = loss(y, l_Model(x))\n",
    "\n",
    "    train(l_Model, x, y, lr=0.12)\n",
    "    if (epoch + 1) % 10 == 0:\n",
    "        print(f\"Epoch count {epoch}: Loss Value: {current_loss.numpy()}\")"
   ]
  },
  {
   "cell_type": "markdown",
   "metadata": {},
   "source": [
    "as we can see the loss value is decreasing as the epoch count is increasing."
   ]
  },
  {
   "cell_type": "code",
   "execution_count": 48,
   "metadata": {},
   "outputs": [
    {
     "data": {
      "image/png": "[encoded data removed]",
      "text/plain": [
       "<Figure size 432x288 with 1 Axes>"
      ]
     },
     "metadata": {},
     "output_type": "display_data"
    }
   ],
   "source": [
    "plt.scatter(x, y, label=\"Input Dataset\")\n",
    "plt.scatter(x, l_Model(x), label=\"predicted\")\n",
    "plt.legend()\n",
    "plt.show()"
   ]
  },
  {
   "cell_type": "code",
   "execution_count": 49,
   "metadata": {},
   "outputs": [
    {
     "data": {
      "text/plain": [
       "(2.011707, 0.9329825)"
      ]
     },
     "execution_count": 49,
     "metadata": {},
     "output_type": "execute_result"
    }
   ],
   "source": [
    "l_Model.w.numpy(), l_Model.b.numpy()"
   ]
  },
  {
   "cell_type": "code",
   "execution_count": 50,
   "metadata": {},
   "outputs": [],
   "source": [
    "RMSE=current_loss.numpy()"
   ]
  },
  {
   "cell_type": "code",
   "execution_count": 51,
   "metadata": {},
   "outputs": [
    {
     "data": {
      "text/plain": [
       "0.09662298"
      ]
     },
     "execution_count": 51,
     "metadata": {},
     "output_type": "execute_result"
    }
   ],
   "source": [
    "RMSE"
   ]
  },
  {
   "cell_type": "code",
   "execution_count": null,
   "metadata": {},
   "outputs": [],
   "source": []
  }
 ],
 "metadata": {
  "kernelspec": {
   "display_name": "Python 3",
   "language": "python",
   "name": "python3"
  },
  "language_info": {
   "codemirror_mode": {
    "name": "ipython",
    "version": 3
   },
   "file_extension": ".py",
   "mimetype": "text/x-python",
   "name": "python",
   "nbconvert_exporter": "python",
   "pygments_lexer": "ipython3",
   "version": "3.7.3"
  }
 },
 "nbformat": 4,
 "nbformat_minor": 2
}
